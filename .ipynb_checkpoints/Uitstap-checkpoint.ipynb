{
 "cells": [
  {
   "cell_type": "markdown",
   "metadata": {
    "pycharm": {
     "name": "#%% md\n"
    }
   },
   "source": [
    "# Math to Python\n",
    "In mijn uitstap(je) heb ik gekeken naar veel gebruikte wiskundige notaties, en hoe deze kunnen worden gebruikt in Python.\n",
    "\n",
    "Notities zijn in het Engels, dit is voor mij natuurlijker.\n",
    "\n",
    "De formules zijn getekend in OneNote, hierdoor onthoud ik de formules en de gedachte hierachter beter dan wanneer ik het bijv. van internet kopiëer."
   ]
  },
  {
   "cell_type": "markdown",
   "metadata": {},
   "source": [
    "## Sigmoid\n",
    "A 'simple' activation function which can be used to add non-linearity to a model (indicates which value to pass as output)\n",
    "![sigmoid](images/sigmoid.png)"
   ]
  },
  {
   "cell_type": "code",
   "execution_count": 1,
   "metadata": {},
   "outputs": [
    {
     "data": {
      "text/plain": [
       "0.6125396134409151"
      ]
     },
     "execution_count": 1,
     "metadata": {},
     "output_type": "execute_result"
    }
   ],
   "source": [
    "import numpy as np\n",
    "\n",
    "sigmoid = lambda z: 1 / (1 + np.exp(-z))\n",
    "sigmoid(0.458)"
   ]
  },
  {
   "cell_type": "markdown",
   "metadata": {},
   "source": [
    "## Sigma\n",
    "![sigma](images/sigma.png)"
   ]
  },
  {
   "cell_type": "code",
   "execution_count": 2,
   "metadata": {
    "pycharm": {
     "name": "#%%\n"
    }
   },
   "outputs": [
    {
     "data": {
      "text/plain": [
       "15"
      ]
     },
     "execution_count": 2,
     "metadata": {},
     "output_type": "execute_result"
    }
   ],
   "source": [
    "def sigma(x):\n",
    "    N = len(x)\n",
    "    result = 0\n",
    "    for i in range(N):\n",
    "        result += x[i]\n",
    "    return result\n",
    "\n",
    "sigma([1,2,3,4,5])"
   ]
  },
  {
   "cell_type": "markdown",
   "metadata": {},
   "source": [
    "## Average\n",
    "![average](images/average.png)"
   ]
  },
  {
   "cell_type": "code",
   "execution_count": 3,
   "metadata": {},
   "outputs": [
    {
     "data": {
      "text/plain": [
       "3.0"
      ]
     },
     "execution_count": 3,
     "metadata": {},
     "output_type": "execute_result"
    }
   ],
   "source": [
    "def average(x):\n",
    "    N = len(x)\n",
    "    result = 0\n",
    "    for i in range(N):\n",
    "        result += x[i]\n",
    "    return result / N\n",
    "    \n",
    "average([1,2,3,4,5])"
   ]
  },
  {
   "cell_type": "code",
   "execution_count": 4,
   "metadata": {},
   "outputs": [
    {
     "data": {
      "text/plain": [
       "3.0"
      ]
     },
     "execution_count": 4,
     "metadata": {},
     "output_type": "execute_result"
    }
   ],
   "source": [
    "# or\n",
    "def average(x):\n",
    "    sum = sigma(x)\n",
    "    return sum / len(x)\n",
    "\n",
    "average([1,2,3,4,5])"
   ]
  },
  {
   "cell_type": "markdown",
   "metadata": {},
   "source": [
    "## Absolute value\n",
    "![absolute](images/absolute.png)"
   ]
  },
  {
   "cell_type": "code",
   "execution_count": 5,
   "metadata": {},
   "outputs": [
    {
     "name": "stdout",
     "output_type": "stream",
     "text": [
      "10\n",
      "10\n"
     ]
    }
   ],
   "source": [
    "# Absolute value of a number\n",
    "def absolute(x):\n",
    "    return abs(x) # that was easy\n",
    "\n",
    "print(absolute(10)) # 10\n",
    "print(absolute(-10)) # 10"
   ]
  },
  {
   "cell_type": "markdown",
   "metadata": {},
   "source": [
    "## Norm\n",
    "I found that the same notation for absolute values means something different when working with vectors/lists/arrays. Namely that it is used to calculate the magnitude, squaring each element in a vector, summing them, and taking the square root.\n",
    "![absolute](images/absolute.png)"
   ]
  },
  {
   "cell_type": "code",
   "execution_count": 6,
   "metadata": {},
   "outputs": [
    {
     "data": {
      "text/plain": [
       "3.7416573867739413"
      ]
     },
     "execution_count": 6,
     "metadata": {},
     "output_type": "execute_result"
    }
   ],
   "source": [
    "import math\n",
    "\n",
    "def norm(x):\n",
    "    result = 0\n",
    "    for i in x:\n",
    "        result += i**2\n",
    "    return math.sqrt(result)\n",
    "\n",
    "norm([1,2,3])"
   ]
  },
  {
   "cell_type": "markdown",
   "metadata": {},
   "source": [
    "## Belongs (options/classifications)\n",
    "![belongs](images/belongs.png)"
   ]
  },
  {
   "cell_type": "code",
   "execution_count": 7,
   "metadata": {},
   "outputs": [
    {
     "name": "stdout",
     "output_type": "stream",
     "text": [
      "True\n",
      "False\n"
     ]
    }
   ],
   "source": [
    "def belongs(X, y):\n",
    "    return y in X\n",
    "\n",
    "X = {1,2,3}\n",
    "print(belongs(X, 3)) #true\n",
    "print(belongs(X, 4)) #false"
   ]
  },
  {
   "cell_type": "markdown",
   "metadata": {},
   "source": [
    "## Transpose\n",
    "Exchanges rows and columns\n",
    "![transpose](images/transpose.png)"
   ]
  },
  {
   "cell_type": "code",
   "execution_count": 8,
   "metadata": {},
   "outputs": [
    {
     "data": {
      "text/plain": [
       "array([[1, 4],\n",
       "       [2, 5],\n",
       "       [3, 6]])"
      ]
     },
     "execution_count": 8,
     "metadata": {},
     "output_type": "execute_result"
    }
   ],
   "source": [
    "def transpose(X):\n",
    "    return np.transpose(X)\n",
    "\n",
    "X = [[1,2,3], \n",
    "     [4,5,6]]\n",
    "transpose(X) # [[1,4], [2,5], [3,6]]"
   ]
  },
  {
   "cell_type": "markdown",
   "metadata": {},
   "source": [
    "## Multiply (tensor)\n",
    "Multiply two tensors/lists with the corresponding elements in each list (1*2, 2*2, 3*2, 4*2)\n",
    "![tensor_mult](images/tensor_mult.png)"
   ]
  },
  {
   "cell_type": "code",
   "execution_count": 9,
   "metadata": {},
   "outputs": [
    {
     "data": {
      "text/plain": [
       "array([[2, 4],\n",
       "       [6, 8]])"
      ]
     },
     "execution_count": 9,
     "metadata": {},
     "output_type": "execute_result"
    }
   ],
   "source": [
    "def tensorMultiply(x, y):\n",
    "    return np.multiply(x,y)\n",
    "x = [[1,2], [3,4]]\n",
    "y = [[2,2], [2,2]]\n",
    "tensorMultiply(x, y) #[[2,4], [6,8]]"
   ]
  },
  {
   "cell_type": "markdown",
   "metadata": {},
   "source": [
    "## Dot product\n",
    "Gets the sum of the products of the corresponding entries of two number sequences. Notation can either have a single dot, or nothing between the sequences.\n",
    "![dot](images/dot.png)"
   ]
  },
  {
   "cell_type": "code",
   "execution_count": 10,
   "metadata": {},
   "outputs": [
    {
     "data": {
      "text/plain": [
       "32"
      ]
     },
     "execution_count": 10,
     "metadata": {},
     "output_type": "execute_result"
    }
   ],
   "source": [
    "# Gives sum of products of corresponding entries\n",
    "def dot(x, y):\n",
    "    return sum([i*j for i, j in zip(x, y)])\n",
    "x = [1,2,3]\n",
    "y = [4,5,6]\n",
    "dot(x, y) # 1*4 + 2*5 + 3*6 = 32"
   ]
  },
  {
   "cell_type": "markdown",
   "metadata": {},
   "source": [
    "## Factorial\n",
    "Gets the factorial of a number\n",
    "![factorial](images/factorial.png)"
   ]
  },
  {
   "cell_type": "code",
   "execution_count": 11,
   "metadata": {},
   "outputs": [
    {
     "data": {
      "text/plain": [
       "120"
      ]
     },
     "execution_count": 11,
     "metadata": {},
     "output_type": "execute_result"
    }
   ],
   "source": [
    "def factorial(x):\n",
    "    fact = 1\n",
    "    for i in range(x, 0, -1):\n",
    "        fact *= i\n",
    "    return fact\n",
    "factorial(5) #5*4*3*2*1 = 120"
   ]
  },
  {
   "cell_type": "code",
   "execution_count": 12,
   "metadata": {},
   "outputs": [
    {
     "data": {
      "text/plain": [
       "120"
      ]
     },
     "execution_count": 12,
     "metadata": {},
     "output_type": "execute_result"
    }
   ],
   "source": [
    "#or\n",
    "def factorial(x):\n",
    "    return math.factorial(x)\n",
    "factorial(5)"
   ]
  }
 ],
 "metadata": {
  "kernelspec": {
   "display_name": "Python 3 (ipykernel)",
   "language": "python",
   "name": "python3"
  },
  "language_info": {
   "codemirror_mode": {
    "name": "ipython",
    "version": 3
   },
   "file_extension": ".py",
   "mimetype": "text/x-python",
   "name": "python",
   "nbconvert_exporter": "python",
   "pygments_lexer": "ipython3",
   "version": "3.7.11"
  }
 },
 "nbformat": 4,
 "nbformat_minor": 1
}
